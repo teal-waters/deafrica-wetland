{
 "cells": [
  {
   "cell_type": "markdown",
   "id": "5f41482f-99e5-49f5-8616-22f96d742d7d",
   "metadata": {},
   "source": [
    "# Derive terrain attributes from a Digital Elevation Model (DEM)"
   ]
  },
  {
   "cell_type": "markdown",
   "id": "28e58eb3-4dd5-45b4-a55e-cb9464e4cbde",
   "metadata": {},
   "source": [
    "## Description\n",
    "The purpose of this notebook is to compute terrain attributes from a Digital Elevation Model (DEM) for a specific area of interest. These terrain attributes provide important information about the topographic characteristics of the landscape and are particularly useful for studying wetlands. The notebook calculates various terrain indices such as aspect, curvature, Topographic Wetness Index (TWI), Terrain Profile Index (TPI), and Depth-to-Water. These indices offer insights into slope, orientation, shape, hydrology, water flow patterns, and other factors relevant to wetlands. By deriving these terrain attributes, researchers and analysts can better understand wetland dynamics, assess habitats, model ecosystems, and plan conservation strategies. The resulting terrain indices enhance wetland mapping, classification, and analysis, facilitating more accurate and detailed studies related to wetland ecosystems."
   ]
  },
  {
   "cell_type": "markdown",
   "id": "fcea8d81-08a9-4d96-a039-1c9b5368a51c",
   "metadata": {},
   "source": [
    "## Getting started\n",
    "To run this analysis, run all the cells in the notebook, starting with the \"Inastall and load packages\" cell."
   ]
  },
  {
   "cell_type": "markdown",
   "id": "c1409e58-e870-46aa-864a-be6d960a3a3a",
   "metadata": {},
   "source": [
    "## Install and load Packages"
   ]
  },
  {
   "cell_type": "markdown",
   "id": "e62f20de-72d9-45fe-ac74-174b6ebb3d8e",
   "metadata": {},
   "source": [
    "### Optional - Install onetime"
   ]
  },
  {
   "cell_type": "code",
   "execution_count": null,
   "id": "2e1dd8a6-ae6d-41fd-adf1-0c8806a8f81a",
   "metadata": {},
   "outputs": [],
   "source": [
    "%matplotlib inline\n",
    "\n",
    "import os\n",
    "import requests\n",
    "import time\n",
    "\n",
    "import rasterio\n",
    "import rioxarray\n",
    "\n",
    "import numpy as np\n",
    "import xarray as xr\n",
    "import xarray as xr\n",
    "import richdem as rd\n",
    "import geopandas as gpd\n",
    "import scipy.ndimage as ndimage\n",
    "import matplotlib.pyplot as plt\n",
    "from odc.geo.geom import Geometry\n",
    "import odc.stac\n",
    "import planetary_computer\n",
    "import pystac_client\n",
    "from datacube.utils.cog import write_cog\n",
    "from scipy.ndimage import label, distance_transform_edt\n",
    "from mpl_toolkits.axes_grid1 import make_axes_locatable\n",
    "\n",
    "from deafrica_tools.dask import create_local_dask_cluster\n",
    "from deafrica_tools.plotting import display_map\n",
    "\n",
    "\n",
    "import warnings\n",
    "warnings.filterwarnings(\"ignore\")"
   ]
  },
  {
   "cell_type": "code",
   "execution_count": null,
   "id": "35b55f7c",
   "metadata": {},
   "outputs": [],
   "source": [
    "# For now, try this projection\n",
    "CRS = 6933\n",
    "# buffer value needed for mrvbf & mrrtf\n",
    "# according to https://github.com/digitalearthafrica/dem-derivative/blob/main/tiled_dem_processing_saga.sh\n",
    "BUFFER_M = 2430"
   ]
  },
  {
   "cell_type": "markdown",
   "id": "24f1ef23-38c7-418e-9d3e-4586beb7124b",
   "metadata": {},
   "source": [
    "### Set up a dask cluster\n",
    "This will help keep our memory use down and conduct the analysis in parallel. If you'd like to view the dask dashboard, click on the hyperlink that prints below the cell. You can use the dashboard to monitor the progress of calculations."
   ]
  },
  {
   "cell_type": "code",
   "execution_count": null,
   "id": "65f047e6-0343-4be5-a50e-a97bf75f4232",
   "metadata": {},
   "outputs": [],
   "source": [
    "create_local_dask_cluster()"
   ]
  },
  {
   "cell_type": "markdown",
   "id": "ab18357b-9f40-4884-b288-29a5713fa737",
   "metadata": {},
   "source": [
    "### Load vector and plot area of interest"
   ]
  },
  {
   "cell_type": "code",
   "execution_count": null,
   "id": "aaeffce1-e71c-43be-84cc-a9f285cb7c84",
   "metadata": {},
   "outputs": [],
   "source": [
    "def load_huc_boundary(huc_id) -> gpd.GeoDataFrame:\n",
    "    url = \"https://hydro.nationalmap.gov/arcgis/rest/services/wbd/MapServer/4/query\"\n",
    "    params = {\n",
    "        \"where\": f\"HUC8='{huc_id}'\",\n",
    "        \"outFields\": \"*\",\n",
    "        \"returnGeometry\": \"true\",\n",
    "        \"f\": \"geojson\",\n",
    "    }\n",
    "\n",
    "    response = requests.get(url, params=params)\n",
    "    response.raise_for_status()\n",
    "    return response.json()\n",
    "\n",
    "\n",
    "SKYKOMISH_HUC8_ID = \"17110009\"\n",
    "aoi = load_huc_boundary(SKYKOMISH_HUC8_ID)\n",
    "# Create a geopolygon and geodataframe of the area of interest\n",
    "geopolygon = Geometry(aoi[\"features\"][0][\"geometry\"], crs=\"epsg:4326\")\n",
    "geopolygon_gdf = gpd.GeoDataFrame(geometry=[geopolygon], crs=geopolygon.crs)\n",
    "\n",
    "# Get the latitude and longitude range of the geopolygon\n",
    "lat_range = (geopolygon_gdf.total_bounds[1], geopolygon_gdf.total_bounds[3])\n",
    "lon_range = (geopolygon_gdf.total_bounds[0], geopolygon_gdf.total_bounds[2])\n",
    "\n",
    "display_map(x=lon_range, y=lat_range)"
   ]
  },
  {
   "cell_type": "markdown",
   "id": "8adfa50a-d715-4c99-9b6c-f33cdb7a5e56",
   "metadata": {},
   "source": [
    "### Derive terrain attributes"
   ]
  },
  {
   "cell_type": "code",
   "execution_count": null,
   "id": "56c2c695-a593-45d6-bb83-df0182da409e",
   "metadata": {},
   "outputs": [],
   "source": [
    "from pathlib import Path\n",
    "\n",
    "# Define the output directory\n",
    "output_dir = Path(\"data/terrain_attributes/\")\n",
    "print(output_dir)\n",
    "# Create the output directory if it does not exist\n",
    "os.makedirs(output_dir, exist_ok=True)"
   ]
  },
  {
   "cell_type": "markdown",
   "id": "85bc0b84",
   "metadata": {},
   "source": [
    "### Download and save DEM"
   ]
  },
  {
   "cell_type": "code",
   "execution_count": null,
   "id": "44db0979",
   "metadata": {},
   "outputs": [],
   "source": [
    "def download_dem(aoi, output_file, **kwargs):\n",
    "    catalog = pystac_client.Client.open(\n",
    "        \"https://planetarycomputer.microsoft.com/api/stac/v1\",\n",
    "        modifier=planetary_computer.sign_inplace,\n",
    "    )\n",
    "    items = list(\n",
    "        catalog.search(\n",
    "            collections=\"3dep-seamless\",\n",
    "            bbox=aoi.total_bounds,\n",
    "            query={\"gsd\": {\"eq\": 10}},\n",
    "        ).items()\n",
    "    )\n",
    "\n",
    "    if not Path(output_file).exists():\n",
    "        return (\n",
    "            odc.stac.load(items, chunks=dict(x=8192, y=8192), **kwargs)\n",
    "            .mean(dim=\"time\")\n",
    "            .squeeze(drop=True)\n",
    "            .map(lambda da: da.rio.clip(aoi.to_crs(da.rio.crs).geometry))\n",
    "            .data.rio.to_raster(output_file, driver=\"COG\", overwrite=True)\n",
    "        )\n",
    "\n",
    "\n",
    "dem_file = output_dir / \"dem.tif\"\n",
    "download_dem(\n",
    "    geopolygon_gdf.to_crs(CRS).buffer(BUFFER_M).to_crs(4326),\n",
    "    dem_file,\n",
    "    crs=CRS,\n",
    "    resolution=10,\n",
    ")"
   ]
  },
  {
   "cell_type": "code",
   "execution_count": null,
   "id": "2c138988",
   "metadata": {},
   "outputs": [],
   "source": [
    "# Either use the above to download a dem or load one you already have\n",
    "# dem_file = \"../../../data/processed/17110009_Skykomish_HE_DEM_3m.tif\"\n",
    "dem = rioxarray.open_rasterio(dem_file, chunks=True).squeeze(drop=True)\n",
    "# Reset CRS if loading something else, in case it's different\n",
    "CRS = dem.odc.crs"
   ]
  },
  {
   "cell_type": "markdown",
   "id": "2c58ccd9-effc-4a84-ab59-384ffe41c6d1",
   "metadata": {},
   "source": [
    "##### Fill DEM and export elevation to GeoTiff\n",
    "The fill_depressions function aims to fill depressions (low points or sinks) in a Digital Elevation Model (DEM). The function iteratively raises the elevation of low points (depressions) in the DEM by setting them to the minimum value encountered so far, until no more depressions are detected. This process ensures that all local minima (sinks) are filled, resulting in a filled DEM where water would flow off instead of accumulating in depressions."
   ]
  },
  {
   "cell_type": "code",
   "execution_count": null,
   "id": "906f8109-1582-4ed5-a852-6aef9ccb2981",
   "metadata": {},
   "outputs": [],
   "source": [
    "# Extract elevation data from the loaded dataset\n",
    "\n",
    "\n",
    "def fill_depressions(dem):\n",
    "    # Perform depression filling using some morphological operations.\n",
    "    filled_dem = dem.copy()\n",
    "    while True:\n",
    "        marker = filled_dem.min()\n",
    "        filled_dem = np.maximum(dem, marker)\n",
    "        labels, num_features = label(dem > filled_dem)\n",
    "        if num_features == 0:\n",
    "            break\n",
    "        dem = np.maximum(dem, filled_dem)\n",
    "    return filled_dem\n",
    "\n",
    "\n",
    "elevation_path = os.path.join(output_dir, \"Elevation.tif\")\n",
    "filled_dem = fill_depressions(dem).compute().assign_attrs({\"crs\": CRS})\n",
    "# Save elevation to GeoTiff\n",
    "write_cog(filled_dem, fname=elevation_path, overwrite=True)"
   ]
  },
  {
   "cell_type": "code",
   "execution_count": null,
   "id": "1da7ce75",
   "metadata": {},
   "outputs": [],
   "source": [
    "# chunk filled dem so operations can use dask\n",
    "filled_dem = filled_dem.astype(\"float32\").chunk(dict(x=3000, y=3000))"
   ]
  },
  {
   "cell_type": "markdown",
   "id": "005dd25b-e81a-4879-853d-fd68e44c2acf",
   "metadata": {},
   "source": [
    "##### Export DEM SRTM Derivatives - MrRTF and MrVBF\n",
    "**Multi-resolution Valley Bottom Flatness (MrVBF)** identifies valley bottoms (areas of deposition). Zero values indicate erosional terrain and values ≥1 and indicate progressively larger areas of deposition.\n",
    "\n",
    "**Multi-resolution Ridge Top Flatness (MrRTF)** is complementary to MrVBF, zero values indicate areas that are steep or low, and values ≥1 indicate progressively larger areas of high flat land."
   ]
  },
  {
   "cell_type": "code",
   "execution_count": null,
   "id": "b9d45c99-9403-42cc-bccf-54269d7421ef",
   "metadata": {},
   "outputs": [],
   "source": [
    "from subprocess import run\n",
    "\n",
    "\n",
    "def compute_derivatives(\n",
    "    dem_path: Path, output_mrvbf_path: Path, output_mrrtf_path: Path, epsg: str | int\n",
    "):\n",
    "    shell_script = \"create_mrvbf_mrrtf.sh\"\n",
    "    run([\"bash\", shell_script, dem_path, output_mrvbf_path, output_mrrtf_path, epsg])\n",
    "\n",
    "\n",
    "def compute_slope(dem_path: Path, output_slope):\n",
    "    run([\"bash\", \"create_slope.sh\", dem_path, output_slope])\n",
    "\n",
    "\n",
    "mrvbf_path = output_dir / \"mrvbf.tif\"\n",
    "mrrtf_path = output_dir / \"mrrtf.tif\"\n",
    "# saga doesn't accept a full WKT string I don't think,\n",
    "# so there will be an error if for complex CRSES. It's ok\n",
    "# (well it should be fixed) since we can set it when we load\n",
    "compute_derivatives(elevation_path, mrvbf_path, mrrtf_path, str(CRS))\n",
    "\n",
    "percent_slope_path = output_dir / \"percent_slope.tif\"\n",
    "compute_slope(elevation_path, percent_slope_path)"
   ]
  },
  {
   "cell_type": "code",
   "execution_count": null,
   "id": "069b6404",
   "metadata": {},
   "outputs": [],
   "source": [
    "# Reload these, though I don't think they're needed down below\n",
    "mrvbf = rioxarray.open_rasterio(mrvbf_path).squeeze(drop=True).rio.write_crs(CRS)\n",
    "mrrtf = rioxarray.open_rasterio(mrrtf_path).squeeze(drop=True).rio.write_crs(CRS)\n",
    "percent_slope = (\n",
    "    rioxarray.open_rasterio(percent_slope_path).squeeze(drop=True).rio.write_crs(CRS)\n",
    ")"
   ]
  },
  {
   "cell_type": "markdown",
   "id": "377013c9-cf6d-4e2f-82c7-79f118ce9f85",
   "metadata": {
    "tags": []
   },
   "source": [
    "#### Topographic Wetness Index\n",
    "The ***Topographic Wetness Index (TWI)*** is a useful model to estimate where water will accumulate in an area with elevation differences. It is a function of slope and the upstream contributing area."
   ]
  },
  {
   "cell_type": "code",
   "execution_count": null,
   "id": "ff4f53cb-f8a5-494b-8124-717f1a03f1e2",
   "metadata": {},
   "outputs": [],
   "source": [
    "filled_dem_rd = rd.rdarray(filled_dem, no_data=-9999)\n",
    "\n",
    "# Compute slope and flow accumulation\n",
    "# NOTE: Slope is rederived here!\n",
    "degrees_slope = rd.TerrainAttribute(filled_dem_rd, attrib=\"slope_radians\")\n",
    "accum_d8 = rd.FlowAccumulation(filled_dem_rd, method=\"D8\")\n",
    "\n",
    "# Compute Topographic Wetness Index (TWI)\n",
    "twi = np.log(accum_d8 / (np.tan(degrees_slope) + 0.01)).astype(\n",
    "    np.float32\n",
    ")  # Convert TWI to float32\n",
    "\n",
    "# Save TWI to GeoTIFF\n",
    "output_file = f\"{output_dir}/TWI.tif\"\n",
    "with rasterio.open(\n",
    "    output_file,\n",
    "    \"w\",\n",
    "    driver=\"GTiff\",\n",
    "    height=twi.shape[0],\n",
    "    width=twi.shape[1],\n",
    "    count=1,\n",
    "    dtype=str(twi.dtype),\n",
    "    crs=CRS,\n",
    "    transform=dem.geobox.affine,\n",
    "    nodata=-9999,\n",
    ") as dst:\n",
    "    dst.write(twi, 1)\n",
    "\n",
    "print(f\"TWI GeoTIFF saved as {output_file}\")\n",
    "\n",
    "# Plotting TWI\n",
    "plt.figure(figsize=(10, 8))\n",
    "plt.imshow(twi, cmap=\"Blues\", aspect=\"auto\")\n",
    "plt.colorbar(label=\"Topographic Wetness\")\n",
    "plt.title(\"Topographic Wetness\")\n",
    "plt.axis(\"off\")\n",
    "plt.show()"
   ]
  },
  {
   "cell_type": "markdown",
   "id": "839956c2-d19d-4949-bf48-5be5619a90f1",
   "metadata": {
    "tags": []
   },
   "source": [
    "#### Depth to Water\n",
    "The Depth-to-Water (DTW) index is a soil wetness indicator derived from a Digital Elevation Model (DEM). It calculates the least elevation difference between surface flow channels and surrounding landscape areas. The key points are:\n",
    "\n",
    "* Surface Flow Channels as Reference: The DTW index considers surface flow channels, extracted from DEMs, as reference points representing the groundwater level.\n",
    "* Calculation of DTW Values: DTW values are defined as zero at these surface flow channels. As you move away from these channels, the DTW values increase, reflecting greater depth to the water table and reduced soil wetness.\n",
    "* Soil Wetness Indicator: A higher DTW value indicates that the area is further from surface water, suggesting lower soil moisture and drier conditions. Conversely, areas closer to surface water channels will have lower DTW values, indicating higher soil moisture.\n",
    "\n",
    "\n",
    "\n",
    "The function calculates the DTW Index, which estimates the depth of surface water in meters based on the topographic characteristics of the terrain and the cost function for least-cost path calculation.\n",
    "1. Calculates the threshold (t) for the minimal flow initiation area (FIA) based on the input parameter fia. The threshold represents how much area needs to accumulate downward the slope to result in a channel with simulated surface water. This step is necessary to determine which areas are likely to have surface water.\n",
    "    * 0.25: This means that for water to start flowing, it needs to accumulate in an area of at least 0.25 hectares (2500 square meters).\n",
    "    * 1: In this case, water needs to accumulate in an area of at least 1 hectare (10,000 square meters) to start flowing.\n",
    "    * 4: Here, the required minimum area for water accumulation is 4 hectares (40,000 square meters).\n",
    "\n",
    "2. Uses the calculated threshold to compare the flow accumulationto identify channels with surface water and sets them to 1 in the flowLines raster. Cells with flow accumulation below the threshold are marked as null. This step creates a binary raster layer where 1 represents channels with surface water, and null represents other areas.\n",
    "\n",
    "3. Calculates the least-cost path of slope (cost) starting from the identified flow lines. This step helps determine the least costly path from each cell to the flow lines, considering the slope of the terrain. The cost raster will contain values representing the minimum height difference between each cell and the flow path.\n",
    "\n",
    "4. Computes the Cartographic Depth-to-Water (DTW) Index in meters. The DTW raster is calculated by multiplying the cost raster by the spatial resolution of the DEM and dividing it by 100. This step converts the cost values (originally in percent) to represent the estimated depth of water in meters for each cell in the study area.\n",
    "\n",
    "\n",
    "**References**\n",
    "* [Using the Cartographic Depth-to-Water Index to Locate Small Streams and Associated Wet Areas across Landscapes](https://www.tandfonline.com/doi/full/10.4296/cwrj2011-909)\n",
    "* [Evaluating the effect of DEM resolution on performance of cartographic depth-to-water maps, for planning logging operations](https://www.sciencedirect.com/science/article/pii/S030324342200054X)"
   ]
  },
  {
   "cell_type": "code",
   "execution_count": null,
   "id": "d6caa881-daba-4b21-a238-1bb8b7fbd147",
   "metadata": {},
   "outputs": [],
   "source": [
    "# Set the FIA value you want to use\n",
    "fia = 1\n",
    "\n",
    "\n",
    "def calcDTW(fia, filled_dem, percent_slope):\n",
    "    # Step 1: Calculate the threshold for minimal flow initiation (t)\n",
    "    resolution = filled_dem.rio.resolution()\n",
    "    t = (\n",
    "        fia * 10000 / (abs(resolution[0]) * abs(resolution[1]))\n",
    "    )  # Convert FIA from hectares to square meters\n",
    "\n",
    "    # Step 2: Calculate flow accumulation and identify flow lines/channels\n",
    "    filled_dem_rd = rd.rdarray(filled_dem, no_data=-9999)\n",
    "    accum_d8 = rd.FlowAccumulation(filled_dem_rd, method=\"D8\")\n",
    "    # Create binary flow channels\n",
    "    flow_lines = accum_d8 >= t\n",
    "\n",
    "    # Step 3: Calculate the least-cost of slope in percentage starting from the flow line\n",
    "    cost_distance = distance_transform_edt(\n",
    "        ~flow_lines\n",
    "    )  # Use ~ to invert the binary mask\n",
    "\n",
    "    # Step 4: Compute DTW in meters\n",
    "    # Jesse: I _think_ percent slope is wanted here based on the comment below\n",
    "    DTW = cost_distance * (percent_slope / 100)  # slope is already in percentage\n",
    "\n",
    "    return DTW\n",
    "\n",
    "\n",
    "# Calculate and plot DTW for FIA value 1\n",
    "dtw = calcDTW(fia, filled_dem, percent_slope)\n",
    "dtw_xr = xr.zeros_like(filled_dem)\n",
    "dtw_xr.values = dtw\n",
    "\n",
    "# Save the DTW result to a GeoTIFF file\n",
    "output_file = f\"{output_dir}/DTW.tif\"\n",
    "write_cog(dtw_xr, fname=output_file, overwrite=True)\n",
    "\n",
    "# Plot DTW\n",
    "plt.figure(figsize=(10, 8))\n",
    "im = plt.imshow(dtw, cmap=\"Blues_r\")\n",
    "plt.colorbar(label=\"Depth-to-Water (m)\")\n",
    "plt.title(f\"Depth-to-Water (FIA: {fia})\")\n",
    "plt.axis(\"off\")\n",
    "plt.tight_layout()\n",
    "plt.show()"
   ]
  },
  {
   "cell_type": "code",
   "execution_count": null,
   "id": "e83d91fa",
   "metadata": {},
   "outputs": [],
   "source": [
    "# Convert Mpho's original window sizes for 30-m dem to\n",
    "# their equivalent in our DEM's resolution\n",
    "nominal_resolution = abs(np.prod(dem.rio.resolution())) ** 0.5\n",
    "window_sizes_30m = [(3, 3), (9, 9), (15, 15)]\n",
    "window_sizes_m = [(90, 90), (270, 270), (450, 450)]\n",
    "\n",
    "\n",
    "def nearest_larger_odd(n):\n",
    "    return n if n % 1 == 0 else n + 1\n",
    "\n",
    "\n",
    "window_sizes_cells = [\n",
    "    (\n",
    "        nearest_larger_odd(round(a / nominal_resolution)),\n",
    "        nearest_larger_odd(round(b / nominal_resolution)),\n",
    "    )\n",
    "    for a, b in window_sizes_m\n",
    "]\n",
    "window_sizes_cells"
   ]
  },
  {
   "cell_type": "code",
   "execution_count": null,
   "id": "f44d63cc-e36c-4d69-a187-f05ed602f2cc",
   "metadata": {},
   "outputs": [],
   "source": [
    "def create_kernel(w, method):\n",
    "    kx, ky = w\n",
    "    kernel = np.zeros((ky, kx))\n",
    "    jy, jx = ky // 2, kx // 2  # Center of the kernel\n",
    "\n",
    "    if method == \"queen\":\n",
    "        kernel[:, :] = 1\n",
    "    elif method == \"rook\":\n",
    "        kernel[jy, :] = 1  # Horizontal\n",
    "        kernel[:, jx] = 1  # Vertical\n",
    "    elif method == \"bishop\":\n",
    "        np.fill_diagonal(kernel, 1)\n",
    "        np.fill_diagonal(np.fliplr(kernel), 1)\n",
    "    elif method == \"circle\":\n",
    "        y, x = np.ogrid[-jy : jy + 1, -jx : jx + 1]\n",
    "        mask = x**2 + y**2 <= (kx // 2) ** 2\n",
    "        kernel[mask] = 1\n",
    "    elif method == \"annulus\":\n",
    "        y, x = np.ogrid[-jy : jy + 1, -jx : jx + 1]\n",
    "        outer_mask = x**2 + y**2 <= (kx // 2) ** 2\n",
    "        inner_mask = x**2 + y**2 < ((kx // 2) - 1) ** 2\n",
    "        kernel[outer_mask] = 1\n",
    "        kernel[inner_mask] = 0\n",
    "\n",
    "    return kernel"
   ]
  },
  {
   "cell_type": "code",
   "execution_count": null,
   "id": "21df04b2",
   "metadata": {},
   "outputs": [],
   "source": [
    "def terrain_indices(filled_dem, w=(3, 3), unit=\"degrees\", method=\"queen\"):\n",
    "    if min(w) < 3:\n",
    "        raise ValueError(\"Window size must be at least 3x3\")\n",
    "    if w[0] % 2 == 0 or w[1] % 2 == 0:\n",
    "        raise ValueError(\"Window size must be odd\")\n",
    "\n",
    "    kernel = create_kernel(w, method)\n",
    "\n",
    "    def focal_mean(arr, kernel):\n",
    "        kernel = kernel / kernel.sum()\n",
    "        return ndimage.convolve(arr, kernel, mode=\"constant\", cval=np.nan)\n",
    "\n",
    "    start_time = time.time()\n",
    "    smoothed_dem = focal_mean(filled_dem, kernel)\n",
    "    dz_dx, dz_dy = np.gradient(smoothed_dem)\n",
    "    slope_k = np.arctan(np.hypot(dz_dx, dz_dy))\n",
    "    if unit == \"degrees\":\n",
    "        slope_k = np.degrees(slope_k)\n",
    "\n",
    "    aspect_k = (-np.pi / 2) - np.arctan2(dz_dy, dz_dx)\n",
    "    aspect_k = np.where(aspect_k < 0, aspect_k + 2 * np.pi, aspect_k)\n",
    "    if unit == \"degrees\":\n",
    "        aspect_k = np.degrees(aspect_k)\n",
    "\n",
    "    dz2_dx2 = focal_mean(dz_dx, kernel) - dz_dx\n",
    "    dz2_dy2 = focal_mean(dz_dy, kernel) - dz_dy\n",
    "    dz2_dxdy = focal_mean(dz_dx, kernel) - focal_mean(dz_dy, kernel)\n",
    "\n",
    "    curvature_k = dz2_dx2 + dz2_dy2\n",
    "    profile_curvature_k = (\n",
    "        dz2_dy2 * np.cos(aspect_k) ** 2\n",
    "        + dz2_dx2 * np.sin(aspect_k) ** 2\n",
    "        + 2 * dz2_dxdy * np.sin(aspect_k) * np.cos(aspect_k)\n",
    "    )\n",
    "    planform_curvature_k = (\n",
    "        dz2_dy2 * np.sin(aspect_k) ** 2\n",
    "        + dz2_dx2 * np.cos(aspect_k) ** 2\n",
    "        - 2 * dz2_dxdy * np.sin(aspect_k) * np.cos(aspect_k)\n",
    "    )\n",
    "\n",
    "    focal_mean_tpi = focal_mean(smoothed_dem, kernel)\n",
    "    tpi_k = smoothed_dem - focal_mean_tpi\n",
    "\n",
    "    result = {\n",
    "        \"Slope\": slope_k,\n",
    "        \"Curvature\": curvature_k,\n",
    "        \"Profile_curvature\": profile_curvature_k,\n",
    "        \"Planform_curvature\": planform_curvature_k,\n",
    "        \"TPI\": tpi_k,\n",
    "    }\n",
    "\n",
    "    print(f\"Terrain indices computed in {time.time() - start_time:.2f} seconds\")\n",
    "    return result\n",
    "\n",
    "\n",
    "def array_to_dataarray(array, filled_dem, metric):\n",
    "    return xr.DataArray(\n",
    "        array,\n",
    "        dims=[\"y\", \"x\"],\n",
    "        coords={\"y\": filled_dem.coords[\"y\"], \"x\": filled_dem.coords[\"x\"]},\n",
    "        attrs={\n",
    "            \"crs\": filled_dem.attrs[\"crs\"],\n",
    "            \"nodata\": filled_dem.attrs.get(\"nodata\", None),\n",
    "        },\n",
    "    ).rename(metric)\n",
    "\n",
    "\n",
    "data = {}\n",
    "\n",
    "for w in window_sizes_cells:\n",
    "    print(f\"Processing window size: {w}\")\n",
    "    results = terrain_indices(filled_dem, w=w)\n",
    "    for metric, result in results.items():\n",
    "        if metric not in data:\n",
    "            data[metric] = {}\n",
    "        data[metric][w] = result\n",
    "        result_da = array_to_dataarray(result, filled_dem, metric)\n",
    "        write_cog(\n",
    "            result_da,\n",
    "            fname=f\"{output_dir}/{metric}_{nominal_resolution * w[0]}m.tif\",\n",
    "            overwrite=True,\n",
    "        )\n",
    "    print(f\"All indices for {w} saved to {output_dir}\")"
   ]
  },
  {
   "cell_type": "markdown",
   "id": "ff68a6e4-7c3c-44f1-a78e-e70eb442e763",
   "metadata": {},
   "source": [
    "#### Plot multi-scale terrain indices"
   ]
  },
  {
   "cell_type": "code",
   "execution_count": null,
   "id": "94f41015-4cc0-47c8-b88c-92b49a298524",
   "metadata": {},
   "outputs": [],
   "source": [
    "fig, axes = plt.subplots(\n",
    "    len(data), len(window_sizes_cells), figsize=(18, 5 * len(data))\n",
    ")\n",
    "\n",
    "# Ensure axes is always a 2D array\n",
    "if len(data) == 1:\n",
    "    axes = np.expand_dims(axes, axis=0)\n",
    "if len(window_sizes_cells) == 1:\n",
    "    axes = np.expand_dims(axes, axis=1)\n",
    "\n",
    "for i, (metric, windows_data) in enumerate(data.items()):\n",
    "    for j, w in enumerate(window_sizes_cells):\n",
    "        ax = axes[i, j]\n",
    "        im = ax.imshow(windows_data[w], cmap=\"terrain\", origin=\"upper\")\n",
    "        divider = make_axes_locatable(ax)\n",
    "        cax = divider.append_axes(\"right\", size=\"5%\", pad=0.05)\n",
    "        plt.colorbar(im, cax=cax)\n",
    "        ax.set_title(f\"{metric} ({w[0]}x{w[1]})\".replace(\"_\", \" \"))\n",
    "        ax.axis(\"off\")\n",
    "plt.tight_layout()\n",
    "plt.show()"
   ]
  },
  {
   "cell_type": "markdown",
   "id": "0648ec60-e864-466a-964d-80dd1dfcf0d1",
   "metadata": {},
   "source": [
    "***\n",
    "\n",
    "## Additional information\n",
    "\n",
    "**License:** The code in this notebook is licensed under the [Apache License, Version 2.0](https://www.apache.org/licenses/LICENSE-2.0). \n",
    "Digital Earth Africa data is licensed under the [Creative Commons by Attribution 4.0](https://creativecommons.org/licenses/by/4.0/) license.\n",
    "\n",
    "**Contact:** If you need assistance, please post a question on the [Open Data Cube Slack channel](http://slack.opendatacube.org/) or on the [GIS Stack Exchange](https://gis.stackexchange.com/questions/ask?tags=open-data-cube) using the `open-data-cube` tag (you can view previously asked questions [here](https://gis.stackexchange.com/questions/tagged/open-data-cube)).\n",
    "If you would like to report an issue with this notebook, you can file one on [Github](https://github.com/digitalearthafrica/deafrica-sandbox-notebooks).\n",
    "\n",
    "**Compatible datacube version:** "
   ]
  },
  {
   "cell_type": "code",
   "execution_count": null,
   "id": "24486d9b-6de1-4003-945d-85818ab6071c",
   "metadata": {},
   "outputs": [],
   "source": [
    "from datetime import datetime\n",
    "\n",
    "datetime.today().strftime(\"%Y-%m-%d\")"
   ]
  }
 ],
 "metadata": {
  "kernelspec": {
   "display_name": "Python 3 (ipykernel)",
   "language": "python",
   "name": "python3"
  },
  "language_info": {
   "codemirror_mode": {
    "name": "ipython",
    "version": 3
   },
   "file_extension": ".py",
   "mimetype": "text/x-python",
   "name": "python",
   "nbconvert_exporter": "python",
   "pygments_lexer": "ipython3",
   "version": "3.10.18"
  }
 },
 "nbformat": 4,
 "nbformat_minor": 5
}
